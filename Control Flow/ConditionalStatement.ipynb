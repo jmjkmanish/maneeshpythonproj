{
 "cells": [
  {
   "cell_type": "code",
   "execution_count": 1,
   "metadata": {},
   "outputs": [
    {
     "name": "stdout",
     "output_type": "stream",
     "text": [
      "you are a minor\n"
     ]
    }
   ],
   "source": [
    "## if statement\n",
    "age=16\n",
    "\n",
    "if age>=18:\n",
    "    print(\"you are allowed to vote\")\n",
    "else:   \n",
    "        print(\"you are a minor\")\n"
   ]
  },
  {
   "cell_type": "code",
   "execution_count": 2,
   "metadata": {},
   "outputs": [
    {
     "name": "stdout",
     "output_type": "stream",
     "text": [
      "you are a Teanager\n"
     ]
    }
   ],
   "source": [
    "## elif -- allows you to check multiple conditions\n",
    "age=16\n",
    "\n",
    "if age<=13:\n",
    "    print(\"you are allowed to vote\")\n",
    "elif age<=18:   \n",
    "        print(\"you are a Teanager\")\n",
    "else:   \n",
    "        print(\"you are an adult\")\n"
   ]
  },
  {
   "cell_type": "code",
   "execution_count": 1,
   "metadata": {},
   "outputs": [
    {
     "ename": "AttributeError",
     "evalue": "'int' object has no attribute 'isdigit'",
     "output_type": "error",
     "traceback": [
      "\u001b[1;31m---------------------------------------------------------------------------\u001b[0m",
      "\u001b[1;31mAttributeError\u001b[0m                            Traceback (most recent call last)",
      "Cell \u001b[1;32mIn[1], line 4\u001b[0m\n\u001b[0;32m      1\u001b[0m num\u001b[38;5;241m=\u001b[39m\u001b[38;5;28mint\u001b[39m(\u001b[38;5;28minput\u001b[39m(\u001b[38;5;124m\"\u001b[39m\u001b[38;5;124mEnter the number\u001b[39m\u001b[38;5;124m\"\u001b[39m))\n\u001b[0;32m      3\u001b[0m \u001b[38;5;66;03m# Check if the input is a digit (number)\u001b[39;00m\n\u001b[1;32m----> 4\u001b[0m \u001b[38;5;28;01mif\u001b[39;00m  \u001b[43mnum\u001b[49m\u001b[38;5;241;43m.\u001b[39;49m\u001b[43misdigit\u001b[49m():\n\u001b[0;32m      5\u001b[0m         \u001b[38;5;28minput\u001b[39m \u001b[38;5;241m=\u001b[39m \u001b[38;5;28mint\u001b[39m(num) \n\u001b[0;32m      6\u001b[0m         \u001b[38;5;28mprint\u001b[39m(\u001b[38;5;124mf\u001b[39m\u001b[38;5;124m\"\u001b[39m\u001b[38;5;132;01m{\u001b[39;00m\u001b[38;5;28minput\u001b[39m\u001b[38;5;132;01m}\u001b[39;00m\u001b[38;5;124m is a number.\u001b[39m\u001b[38;5;124m\"\u001b[39m)\n",
      "\u001b[1;31mAttributeError\u001b[0m: 'int' object has no attribute 'isdigit'"
     ]
    }
   ],
   "source": [
    "num=int(input(\"Enter the number\"))\n",
    "\n",
    "# Check if the input is a digit (number)\n",
    "if  num.isdigit():\n",
    "        input = int(num) \n",
    "        print(f\"{input} is a number.\")\n",
    "        if num>0:\n",
    "            print(f\"{input} is a  positive number.\")\n",
    "            if input%2==0:\n",
    "                print(f\"{input} is an even number.\")\n",
    "            else:\n",
    "                print(f\"{input} is an odd number.\")\n",
    "else:\n",
    "    print(f\"{input} is zero or negative number.\")\n",
    "\n",
    "# Check if the input is a single alphabet character\n",
    "if len(input) == 1 and input.isalpha():\n",
    "    print(num + \"is a character.\")\n",
    "else:\n",
    "    print(num +\" \" +\"is neither a single character nor a number.\")\n"
   ]
  },
  {
   "cell_type": "code",
   "execution_count": 5,
   "metadata": {},
   "outputs": [
    {
     "name": "stdout",
     "output_type": "stream",
     "text": [
      "The input '#' is a character.\n"
     ]
    }
   ],
   "source": [
    "# Get input from the user\n",
    "user_input = input(\"Enter a character or number: \")\n",
    "\n",
    "# Check if the input is a number\n",
    "if user_input.lstrip('-').replace('.', '').isdigit():\n",
    "    \n",
    "    # Convert input to a float for numeric checks\n",
    "    number = float(user_input)\n",
    "    \n",
    "    # Check if the number is an integer\n",
    "    if number.is_integer():\n",
    "        number = int(number)  # Convert to integer if it's a whole number\n",
    "    \n",
    "    # Determine if the number is positive, negative, or zero\n",
    "    if number > 0:\n",
    "        print(f\"{number} is a positive number.\")\n",
    "        \n",
    "        # Check if the number is even or odd (only for integers)\n",
    "        if isinstance(number, int):\n",
    "            if number % 2 == 0:\n",
    "                print(f\"{number} is an even number.\")\n",
    "            else:\n",
    "                print(f\"{number} is an odd number.\")\n",
    "    \n",
    "    elif number < 0:\n",
    "        print(f\"{number} is a negative number.\")\n",
    "        \n",
    "        # Check if the number is even or odd (only for integers)\n",
    "        if isinstance(number, int):\n",
    "            if number % 2 == 0:\n",
    "                print(f\"{number} is an even number.\")\n",
    "            else:\n",
    "                print(f\"{number} is an odd number.\")\n",
    "    else:\n",
    "        print(\"The number is zero.\")\n",
    "\n",
    "else:\n",
    "    # If not a number, it's a character\n",
    "    print(f\"The input '{user_input}' is a character.\")"
   ]
  },
  {
   "cell_type": "code",
   "execution_count": 9,
   "metadata": {},
   "outputs": [
    {
     "name": "stdout",
     "output_type": "stream",
     "text": [
      "3242 is not a leap year\n"
     ]
    }
   ],
   "source": [
    "## Example -- yeay is a leap year using nested conditional statement\n",
    "\n",
    "\n",
    "year = int(input(\"enter the year\"))\n",
    "\n",
    "if year%4==0:\n",
    "    if year%100==0:\n",
    "        if year%400==0:\n",
    "            print(year, \"is a leap year\")\n",
    "        else:\n",
    "            print(year, \"is a leap year\")\n",
    "    else:\n",
    "        print(year, \"is a leap year\")\n",
    "else:\n",
    "        print(year, \"is not a leap year\")\n",
    "\n"
   ]
  },
  {
   "cell_type": "code",
   "execution_count": 10,
   "metadata": {},
   "outputs": [
    {
     "name": "stdout",
     "output_type": "stream",
     "text": [
      "Bonus amount is : $ 4000.0\n"
     ]
    }
   ],
   "source": [
    "# Employee bonus calculation\n",
    "\n",
    "# Take user input\n",
    "years_of_service = int(input(\"Enter years of service: \"))\n",
    "performance_rating = float(input(\"Enter performance rating (1.0 to 5.0): \"))\n",
    "\n",
    "# determining bonus %\n",
    "\n",
    "if years_of_service>= 15:\n",
    "    if performance_rating:= 5.0:\n",
    "        bonus=20\n",
    "    elif performance_rating>= 4.5:\n",
    "                bonus=18\n",
    "    else :\n",
    "                bonus=15\n",
    "elif years_of_service>= 10:\n",
    "    if performance_rating:= 5.0:\n",
    "        bonus=12\n",
    "    elif performance_rating>= 4.5:\n",
    "                bonus=10\n",
    "    else :\n",
    "                bonus=8\n",
    "elif years_of_service>= 5:\n",
    "    if performance_rating:= 5.0:\n",
    "        bonus=5\n",
    "else :\n",
    "                bonus=8  \n",
    "# Calculate bonus amount\n",
    "salary = float(input(\"Enter current salary: \"))\n",
    "bonus_amount= salary*bonus/100   \n",
    "\n",
    "print(\"Bonus amount is : $\", bonus_amount)\n",
    "\n",
    "\n",
    "\n"
   ]
  },
  {
   "cell_type": "code",
   "execution_count": null,
   "metadata": {},
   "outputs": [],
   "source": []
  }
 ],
 "metadata": {
  "kernelspec": {
   "display_name": "Python 3",
   "language": "python",
   "name": "python3"
  },
  "language_info": {
   "codemirror_mode": {
    "name": "ipython",
    "version": 3
   },
   "file_extension": ".py",
   "mimetype": "text/x-python",
   "name": "python",
   "nbconvert_exporter": "python",
   "pygments_lexer": "ipython3",
   "version": "3.12.5"
  }
 },
 "nbformat": 4,
 "nbformat_minor": 2
}
